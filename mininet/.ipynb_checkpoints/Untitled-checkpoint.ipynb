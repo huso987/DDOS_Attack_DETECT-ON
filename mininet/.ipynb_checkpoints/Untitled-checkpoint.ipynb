{
 "cells": [
  {
   "cell_type": "code",
   "execution_count": null,
   "id": "e4475eb9-be33-47e2-ab27-bf71f08a305b",
   "metadata": {},
   "outputs": [],
   "source": [
    "from mininet.cli import CLI\n",
    "from mininet.topo import Topo\n",
    "from mininet.net import Mininet\n",
    "from mininet.link import TCLink\n",
    "\n",
    "class CustomTopology(Topo):\n",
    "    def build(self):\n",
    "        h1 = self.addHost('h1')\n",
    "        h2 = self.addHost('h2')\n",
    "        s1 = self.addSwitch('s1')\n",
    "\n",
    "        self.addLink(h1, s1)\n",
    "        self.addLink(h2, s1)\n",
    "\n",
    "\n",
    "def create_topology():\n",
    "    topo = CustomTopology()\n",
    "    net = Mininet(topo=topo, link=TCLink)\n",
    "    net.start()\n",
    "    CLI(net)\n",
    "    net.stop()\n",
    "\n",
    "if __name__ == '__main__':\n",
    "    create_topology()\n"
   ]
  }
 ],
 "metadata": {
  "kernelspec": {
   "display_name": "Python 3 (ipykernel)",
   "language": "python",
   "name": "python3"
  },
  "language_info": {
   "codemirror_mode": {
    "name": "ipython",
    "version": 3
   },
   "file_extension": ".py",
   "mimetype": "text/x-python",
   "name": "python",
   "nbconvert_exporter": "python",
   "pygments_lexer": "ipython3",
   "version": "3.10.12"
  }
 },
 "nbformat": 4,
 "nbformat_minor": 5
}
